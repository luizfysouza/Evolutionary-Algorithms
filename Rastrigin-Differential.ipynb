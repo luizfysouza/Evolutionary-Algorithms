{
 "cells": [
  {
   "cell_type": "markdown",
   "metadata": {},
   "source": [
    "# Laboratório 3 - Implementação do algoritmo evolução diferencial.\n",
    "# Grupo: Douglas Ferrreira e Luiz Souza"
   ]
  },
  {
   "cell_type": "code",
   "execution_count": 1,
   "metadata": {},
   "outputs": [],
   "source": [
    "import numpy as np\n",
    "import matplotlib.pyplot as plt \n",
    "import math\n",
    "import random as rd\n",
    "import random"
   ]
  },
  {
   "cell_type": "markdown",
   "metadata": {},
   "source": [
    "# Aqui são definidos o tamanho da populacao, N, a probabilidade de recombinacao, C, o fator de escala, F, e o número maximo de gerações, max_geracoes."
   ]
  },
  {
   "cell_type": "code",
   "execution_count": 2,
   "metadata": {},
   "outputs": [],
   "source": [
    "N = 100 #Tamanho populacao\n",
    "C = 0.8 # prob de recombinacao\n",
    "F =0.8 # fator de escala\n",
    "max_geracoes = 80"
   ]
  },
  {
   "cell_type": "markdown",
   "metadata": {},
   "source": [
    "# Uma populacao de tamanho N é gerado em um  determinado intervalo definido a priori."
   ]
  },
  {
   "cell_type": "code",
   "execution_count": 3,
   "metadata": {},
   "outputs": [],
   "source": [
    "def Population(intervalo):\n",
    "    populacao = np.random.uniform(intervalo[0],intervalo[1],(N,2))\n",
    "    return populacao"
   ]
  },
  {
   "cell_type": "markdown",
   "metadata": {},
   "source": [
    "# Uma população mutante é Gerada. Cada indivíduo da população mutante poderá vir de 2 situações:  da população já existente ou ele será resultado da combinação de três indivíduos sorteados aleatoriamente. Quando a condição $if(\\mu [0,1] \\leq C \\wedge i == \\delta)$ é falsa acontece o primeiro caso e quando verdadeira o segundo.  Tradução da expressão acima: Quando um número aleatório de uma distribuição uniforme for menor ou igual a uma determinada probabilidade de recombinação(já definida) ou quando um número sorteado aleatoriamente dentro de uma faixa(intervalo com a quantidade de números igual a quantidade de variáveis de decisão) for igual ao índice da variável de decisão sendo analisada, é feita a recombinação de três indivíduos para formar um novo indivíduo mutante."
   ]
  },
  {
   "cell_type": "code",
   "execution_count": 4,
   "metadata": {},
   "outputs": [],
   "source": [
    "def GeraPopMutante(populacao,populacao_mutante):\n",
    "    for j in range(N):\n",
    "        indiv1, indiv2,indiv3 = SorteiaTres()\n",
    "        mi = rd.uniform(0,1)\n",
    "        delt = rd.randint(0,1)\n",
    "        for i in range(2):\n",
    "            if((mi<=C)or(delt==i)):\n",
    "                populacao_mutante[j,i] = populacao[indiv1, i] +F*(populacao[indiv2, i] - populacao[indiv3, i])\n",
    "            else:\n",
    "                populacao_mutante[j,i]  = populacao[j,i]\n",
    "    return populacao_mutante"
   ]
  },
  {
   "cell_type": "markdown",
   "metadata": {},
   "source": [
    "#  No método abaixo, conforme a função escolhida, os indivíduos são substituídos ou não, de acordo com o fitness/valor da função objetivo dos indivíduos da população principal e da população mutante."
   ]
  },
  {
   "cell_type": "code",
   "execution_count": 5,
   "metadata": {},
   "outputs": [],
   "source": [
    "#Nessa funcao, caso os indivíduos mutantes tenham melhor fitness eles substituem os individuos da populacao principal\n",
    "def SubstituiPopulacao(populacao, populacao_mutante):\n",
    "    for i in range(N):\n",
    "        if((Rastrigin(populacao_mutante[i]))<(Rastrigin(populacao[i]))):\n",
    "            populacao[i] = populacao_mutante[i]\n",
    "    return populacao"
   ]
  },
  {
   "cell_type": "markdown",
   "metadata": {},
   "source": [
    "# Três indivíduos da população principal são sorteados aleatoriamente."
   ]
  },
  {
   "cell_type": "code",
   "execution_count": 6,
   "metadata": {},
   "outputs": [],
   "source": [
    "#Sao sorteados tres números aleatorios entre 0 e Tamanho da populacao para ser gerado um individuo mutante\n",
    "def SorteiaTres():\n",
    "    indiv1 = random.randint(0, N-1)\n",
    "    indiv2 = random.randint(0,N-1)\n",
    "    indiv3 = random.randint(0,N-1)\n",
    "    return indiv1, indiv2, indiv3"
   ]
  },
  {
   "cell_type": "markdown",
   "metadata": {},
   "source": [
    "# A função Rastrigin é definida"
   ]
  },
  {
   "cell_type": "code",
   "execution_count": 7,
   "metadata": {},
   "outputs": [],
   "source": [
    "def Rastrigin(x):\n",
    "    saida = (x[0]**2-10*np.cos(2*math.pi*x[0])) + (x[1]**2 -10*np.cos(2*math.pi*x[1]))\n",
    "    return saida"
   ]
  },
  {
   "cell_type": "markdown",
   "metadata": {},
   "source": [
    "# O melhor valor de função objetivo  e a média dos valores de função objetivo  são mostrados em cada geração"
   ]
  },
  {
   "cell_type": "code",
   "execution_count": 8,
   "metadata": {},
   "outputs": [],
   "source": [
    "def plotar(valores_fitness, media_fitness):\n",
    "    iteracoes = range(len(valores_fitness)) \n",
    "    fig, ax = plt.subplots( dpi=120 )\n",
    "    ax.plot(iteracoes, valores_fitness,\"#877009\")\n",
    "    ax.plot(iteracoes, valores_fitness,\"m *\", label=' Mínimo em cada Geração')\n",
    "    ax.plot(iteracoes, media_fitness, \"b.\", label=' média do valor da função objetivo em cada Geração')\n",
    "    #ax.set_xlabel('Gerações')\n",
    "    ax.set_ylabel('Valor da função objetivo')\n",
    "    ax.legend(bbox_to_anchor=(1.05, 1), loc='upper left', borderaxespad=0.)\n",
    "    #plt.title('\\nNº de fitness em cada geração.') \n",
    "    plt.show()"
   ]
  },
  {
   "cell_type": "markdown",
   "metadata": {},
   "source": [
    "# É retornado o ponto que tem o melhor mínimo das funções"
   ]
  },
  {
   "cell_type": "code",
   "execution_count": 9,
   "metadata": {},
   "outputs": [],
   "source": [
    "def MelhorPonto(populacao):\n",
    "    melhor_fitness =100\n",
    "    for i in range(N):\n",
    "        if(Rastrigin(populacao[i])<melhor_fitness):\n",
    "            melhor_fitness = Rastrigin(populacao[i])\n",
    "            ponto = populacao[i]\n",
    "    return ponto\n",
    "        \n"
   ]
  },
  {
   "cell_type": "markdown",
   "metadata": {},
   "source": [
    "# Função principal, onde é feita a otimização da função Rastrigin\n"
   ]
  },
  {
   "cell_type": "code",
   "execution_count": 10,
   "metadata": {},
   "outputs": [],
   "source": [
    "def main():\n",
    "    print('\\033[1m' +\"Rastrigin\")\n",
    "    #Otimização da função Rastrigin\n",
    "\n",
    "    populacao = Population([-2,2])\n",
    "    populacao_mutante = np.zeros((N,2))\n",
    "    valores_fit = []\n",
    "    media_fitness = []\n",
    "    for i in range(max_geracoes):\n",
    "        populacao_mutante = GeraPopMutante(populacao,populacao_mutante)\n",
    "        populacao = SubstituiPopulacao(populacao, populacao_mutante)\n",
    "        melhor_ponto = MelhorPonto(populacao)\n",
    "        valores_fit.append(Rastrigin(melhor_ponto))\n",
    "        media_fitness.append(Rastrigin(np.mean(populacao, axis = 0)))\n",
    "    plotar(valores_fit, media_fitness)  \n",
    "    print(\"Ponto de mínimo final da função Rastrigin\")\n",
    "    print(((MelhorPonto(populacao)))) # Ponto bem próximo de [0,0]\n",
    "            \n"
   ]
  },
  {
   "cell_type": "markdown",
   "metadata": {},
   "source": [
    "# A função main é chamada aqui"
   ]
  },
  {
   "cell_type": "code",
   "execution_count": 11,
   "metadata": {},
   "outputs": [
    {
     "name": "stdout",
     "output_type": "stream",
     "text": [
      "\u001b[1mRastrigin\n"
     ]
    },
    {
     "data": {
      "image/png": "[encoded data removed]",
      "text/plain": [
       "<Figure size 720x480 with 1 Axes>"
      ]
     },
     "metadata": {
      "needs_background": "light"
     },
     "output_type": "display_data"
    },
    {
     "name": "stdout",
     "output_type": "stream",
     "text": [
      "Ponto de mínimo final da função Rastrigin\n",
      "[-3.41668050e-06  3.20304302e-06]\n"
     ]
    }
   ],
   "source": [
    "if __name__ == \"__main__\":\n",
    "    main()"
   ]
  }
 ],
 "metadata": {
  "kernelspec": {
   "display_name": "Python 3",
   "language": "python",
   "name": "python3"
  },
  "language_info": {
   "codemirror_mode": {
    "name": "ipython",
    "version": 3
   },
   "file_extension": ".py",
   "mimetype": "text/x-python",
   "name": "python",
   "nbconvert_exporter": "python",
   "pygments_lexer": "ipython3",
   "version": "3.7.4"
  }
 },
 "nbformat": 4,
 "nbformat_minor": 2
}
