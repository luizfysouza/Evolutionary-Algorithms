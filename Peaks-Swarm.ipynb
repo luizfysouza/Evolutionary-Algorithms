{
 "cells": [
  {
   "cell_type": "markdown",
   "metadata": {},
   "source": [
    "# Grupo: Douglas Ferreira e Luiz Souza"
   ]
  },
  {
   "cell_type": "markdown",
   "metadata": {},
   "source": [
    "# Particle swarm optimization para função Peaks"
   ]
  },
  {
   "cell_type": "markdown",
   "metadata": {},
   "source": [
    "O método Particle Swarm Optimization consiste em um método de otimização dentro da computação evolucionária que tem como objetivo obter soluções ideais, estabelecidas pelo programador, a partir de outras, geradas aleatoriamente. O PSO foi proposto por Eberhart e Kennedy em 1995, e tem sido amplamente utilizado desde então, uma vez que gera resultados impressionantes para o nível de simplicidade de implementação. O algoritmo foi baseado na migração de pássaros da natureza, com várias párticulas (soluções) procurando pela solução ótima. Tal método não entrega, no entanto, certeza de que a solução ótima será encontrada.\n",
    "\n",
    "Para testar tal capcidade, nesse programa, foram utilizadas as funções Peaks e Rastrigin, que possuem a capacidade de avaliar a efetividade desse tipo de algoritmo.\n",
    "\n",
    "A função Peaks é definida pela seguitne equação:\n",
    "$3(1-x)^2e^{-x^2} -(y+1)^2 - 10(\\frac{x}{5} -x^3 -y^5)e^{-x^2-y^2} - \\frac{e^{{-(x+1)}^2}-y^2}{3}$\n",
    "\n",
    "Enquanto a função Rastrigin é definida por: $f(x) = \\sum_{i=1}^{n} [f(x) + x_i^2 - 10cos(2 \\pi x_i)]$\n",
    "\n",
    "O algoritmo elaborado usou, como parâmetros: velocidade máxima igual a 1, fatores de Aprendizagem C1 e C2 igual a 1 e 1, tamanho da população avaliada igual a 100 e W igual a 0,5.\n",
    "\n",
    "Tem-se, a partir desses parâmetros, as seguintes definições utilizadas no programa:\n",
    "\n",
    "Posição da partícula: $x_{k+1}^{i} = x_k^i + v_{k+1}^{i}$\n",
    "\n",
    "Velocidade da partícula: $v_{k+1}^{i}=w_kv_k^i+c_1r_1  (p_{k}^{i} - x_k^i) + c_2r_2  (p_k^g - x_k^i)$"
   ]
  },
  {
   "cell_type": "code",
   "execution_count": 144,
   "metadata": {},
   "outputs": [],
   "source": [
    "import numpy as np\n",
    "import random\n",
    "import matplotlib.pyplot as plt \n",
    "import math\n",
    "from scipy import stats"
   ]
  },
  {
   "cell_type": "markdown",
   "metadata": {},
   "source": [
    "# Definição dos parâmetros"
   ]
  },
  {
   "cell_type": "code",
   "execution_count": 145,
   "metadata": {},
   "outputs": [],
   "source": [
    "Vmax = 1.0\n",
    "W =0.5\n",
    "C1 =1.0\n",
    "C2 =1.0\n",
    "N = 100 #Tamanho da populacao"
   ]
  },
  {
   "cell_type": "markdown",
   "metadata": {},
   "source": [
    "# Uma população de partículas é criada. Essa população é composta por: posições, velocidades, melhores posições e melhores valores de função objetivo para cada uma das partículas. Essa população também possui a melhor posição geral entre as partículas e o melhor valor de função geral referente à essa posição."
   ]
  },
  {
   "cell_type": "code",
   "execution_count": 146,
   "metadata": {},
   "outputs": [],
   "source": [
    "def Population(intervalo):\n",
    "    posicoes = np.random.uniform(intervalo[0],intervalo[1],(N,2))#São geradas as N posicoes para as N partículas\n",
    "    velocidade = np.random.uniform(-Vmax,Vmax,(N,2)) #São geradas as N velocidades das N partículas\n",
    "    ValorFuncao = []#Lista que vai armazenar os valores de funcao objetivo de cada partícula\n",
    "    \n",
    "    #No loop são calculados os valores de funcao objetivo para cada partícula\n",
    "    for i in range(len(posicoes)):\n",
    "        ValorFuncao.append(Peaks(posicoes[i]))\n",
    "        \n",
    "    MelhorF = min(ValorFuncao)#Menor e melhor valor de funcao objetivo da lista de todos os valores de funcao objetivo das N particulas\n",
    "    min_index = ValorFuncao.index(MelhorF)#O indice do melhor valor de funcao objetivo é extraido\n",
    "    MelhorPosicao = posicoes[min_index]# Utilizando o indice extraido, a melhor posicao relativa a esse indice é determinada\n",
    "    posicoes_individuais = np.random.rand(N,2)# Lista inicial para as melhores posições das N partículas\n",
    "    valor_func_individuais =  [  Peaks(i) for i in posicoes_individuais ];# Lista inicial para os N melhores  valores de f(x) das partículas\n",
    "    #Essa lista de listas que vai ser retornada possuirá:  posicoes iniciais de N partículas na primeira lista, velocidades iniciais\n",
    "    # de N particulas na segunda lista,a melhor posicao geral na terceira lista, o melhor valor de funcao objetivo na quarta\n",
    "    #lista, as listas 5  e 6 são listas de dimensões (N,2) que serão preenchidas com zeros\n",
    "    # e servirao para armazenar a melhor posicao de cada particula em uma dada iteracao e  o melhor valor de funcao objetivo \n",
    "    # na mesma iteracao.\n",
    "    populacao = [posicoes, velocidade, MelhorPosicao, MelhorF,posicoes_individuais,valor_func_individuais]\n",
    "    return populacao# A populacao  de particulas é retornada"
   ]
  },
  {
   "cell_type": "code",
   "execution_count": 147,
   "metadata": {},
   "outputs": [],
   "source": [
    "#A função Peaks eh avaliada\n",
    "def Peaks(x):\n",
    "    saida = (3*(1-x[0])**2*np.exp(-(x[0]**2) - (x[1]+1)**2)- 10*(x[0]/5 - x[0]**3 - x[1]**5)*np.exp(-x[0]**2-x[1]**2)- 1/3*np.exp(-(x[0]+1)**2 - x[1]**2)) \n",
    "    return saida"
   ]
  },
  {
   "cell_type": "markdown",
   "metadata": {},
   "source": [
    "# Função que atualiza a posição de uma dada partícula"
   ]
  },
  {
   "cell_type": "code",
   "execution_count": 149,
   "metadata": {},
   "outputs": [],
   "source": [
    "def atualiza_posicao(PosicaoAtual, Velocidade):\n",
    "    NovaPosicao = PosicaoAtual+Velocidade\n",
    "    return NovaPosicao\n",
    "    "
   ]
  },
  {
   "cell_type": "markdown",
   "metadata": {},
   "source": [
    "# Função que atualiza a velocidade de uma dada partícula"
   ]
  },
  {
   "cell_type": "code",
   "execution_count": 168,
   "metadata": {},
   "outputs": [],
   "source": [
    "def calcula_velocidade(PosicaoAtual,VelAtual,MelhorPosiIndi,MelhorPosiGeral):\n",
    "    R1, R2 = np.random.uniform(0,1,2) \n",
    "    ProxVeloc = W*VelAtual+C1*R1*(MelhorPosiIndi-PosicaoAtual)+C2*R2*(MelhorPosiGeral - PosicaoAtual)\n",
    "    for i  in range(2):\n",
    "        if(ProxVeloc[i]>Vmax):\n",
    "            ProxVeloc[i] =  Vmax - (ProxVeloc[i] % Vmax) \n",
    "        elif(ProxVeloc[i]< -Vmax):\n",
    "            ProxVeloc[i] =  -Vmax - (ProxVeloc[i] % -Vmax) \n",
    "\n",
    "    return ProxVeloc"
   ]
  },
  {
   "cell_type": "code",
   "execution_count": 181,
   "metadata": {},
   "outputs": [],
   "source": [
    "def plotar(valores_fitness, medias):\n",
    "   # iteracoes = range(len(valores_fitness)) \n",
    "    fig, ax = plt.subplots( dpi=120 )\n",
    "    ax.plot(valores_fitness,\"#877009\", label=' menor valor da função objetivo em cada Geração')\n",
    "    #ax.plot(iteracoes, valores_fitness, label=' Mínimo em cada Geração')\n",
    "    ax.plot(medias, \"#9902FA\", label=' média do valor da função objetivo em cada Geração')\n",
    "    #ax.set_xlabel('Gerações')\n",
    "    ax.set_ylabel('Valor da função objetivo')\n",
    "    ax.legend(bbox_to_anchor=(1.05, 1), loc='upper left', borderaxespad=0.)\n",
    "    #plt.title('\\nNº de fitness em cada geração.') \n",
    "    plt.show()"
   ]
  },
  {
   "cell_type": "code",
   "execution_count": 160,
   "metadata": {},
   "outputs": [],
   "source": [
    "def otimizaPso(populacao):\n",
    "    for i in range(N):\n",
    "        valorfuncao = Peaks(populacao[0][i])\n",
    "        if(valorfuncao<populacao[5][i]):#Se o valor de f(x) calculado agora é melhor que o melhor valor de f(x) de uma partícula, então: ...\n",
    "            populacao[5][i] = valorfuncao#O novo melhor valor de f(x) dessa partícula é atualizado...\n",
    "            populacao[4][i] = populacao[0][i]# Assim como sua nova melhor posição é atualizada\n",
    "        if(valorfuncao<populacao[3]):#Se o valor de f(x) de uma dada partícula é melhor do que o último melhor valor geral de f(x)...\n",
    "            populacao[3] = valorfuncao #Então substitua o último valor por esse recentemente calculado...\n",
    "            populacao[2] = populacao[0][i]#E susbtitua a última melhor posição geral por essa nova.\n",
    "        nova_velocidade = calcula_velocidade(populacao[0][i],populacao[1][i],populacao[4][i],populacao[2]) #Calcula a nova velocidade da partícula\n",
    "        populacao[1][i] = nova_velocidade# Atualiza o novo valor de velocidade da partícula\n",
    "        nova_posicao =  atualiza_posicao(populacao[0][i], populacao[1][i])# Calcula a nova posicao da particula\n",
    "        populacao[0][i] = nova_posicao #Atualiza o valor de posição da partícula\n",
    "    return populacao\n",
    "        "
   ]
  },
  {
   "cell_type": "code",
   "execution_count": 182,
   "metadata": {},
   "outputs": [
    {
     "name": "stdout",
     "output_type": "stream",
     "text": [
      "Ponto de mínimo: [ 0.22827892 -1.62553496]\n",
      "Valor de mínimo: -6.551133332835842\n"
     ]
    },
    {
     "data": {
      "image/png": "[encoded data removed]",
      "text/plain": [
       "<Figure size 720x480 with 1 Axes>"
      ]
     },
     "metadata": {
      "needs_background": "light"
     },
     "output_type": "display_data"
    }
   ],
   "source": [
    "def main():\n",
    "    populacao = Population([-3,3])\n",
    "    valoresfx = []\n",
    "    media = []\n",
    "    for i in range(150):\n",
    "        populacao = otimizaPso(populacao)\n",
    "        valoresfx.append(populacao[3])\n",
    "        media.append(np.mean(populacao[5]))\n",
    "   \n",
    "    print(\"Ponto de mínimo:\", populacao[2])\n",
    "    print(\"Valor de mínimo:\", populacao[3])\n",
    "    plotar(valoresfx, media)\n",
    "if __name__ == \"__main__\":\n",
    "    main()\n"
   ]
  },
  {
   "cell_type": "code",
   "execution_count": null,
   "metadata": {},
   "outputs": [],
   "source": []
  }
 ],
 "metadata": {
  "kernelspec": {
   "display_name": "Python 3",
   "language": "python",
   "name": "python3"
  },
  "language_info": {
   "codemirror_mode": {
    "name": "ipython",
    "version": 3
   },
   "file_extension": ".py",
   "mimetype": "text/x-python",
   "name": "python",
   "nbconvert_exporter": "python",
   "pygments_lexer": "ipython3",
   "version": "3.7.4"
  }
 },
 "nbformat": 4,
 "nbformat_minor": 2
}
