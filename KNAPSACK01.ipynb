{
  "nbformat": 4,
  "nbformat_minor": 0,
  "metadata": {
    "colab": {
      "name": "KNAPSACK01.ipynb",
      "provenance": [],
      "collapsed_sections": []
    },
    "kernelspec": {
      "name": "python3",
      "display_name": "Python 3"
    }
  },
  "cells": [
    {
      "cell_type": "markdown",
      "metadata": {
        "id": "KnC7E9lhFEIH"
      },
      "source": [
        "# **Grupo : Douglas Ferreira, Luiz Souza**.\r\n"
      ]
    },
    {
      "cell_type": "code",
      "metadata": {
        "id": "KqAcsGniGaAb"
      },
      "source": [
        "import random\r\n",
        "import ast\r\n",
        "import string\r\n",
        "import numpy as np\r\n",
        "import matplotlib.pyplot as plt"
      ],
      "execution_count": 1,
      "outputs": []
    },
    {
      "cell_type": "code",
      "metadata": {
        "id": "qAXEgZLvLtWG"
      },
      "source": [
        "prob_crossover = 0.9\r\n",
        "prob_mutacao = 0.05\r\n",
        "valores = [5,8,7,6,9,5,4,3]\r\n",
        "pesos = [10,18,12,14,13,11,8,6]\r\n",
        "tamanho_pop = 20\r\n",
        "#valores = [5,8,7,6,9,5,4,3,5,7,9,8,3,5,4,6,7,9,3,7]\r\n",
        "#pesos = [10,18,12,14,13,11,8,6,4,11,14,5,11,7,16,75,10,1,2,200]\r\n",
        "qtde_itens = len(valores)\r\n",
        "capacidade = 35\r\n",
        "\r\n"
      ],
      "execution_count": 2,
      "outputs": []
    },
    {
      "cell_type": "markdown",
      "metadata": {
        "id": "fJ69c3os3OXI"
      },
      "source": [
        "# Gera a população inicial"
      ]
    },
    {
      "cell_type": "code",
      "metadata": {
        "id": "pqis-_MmCVb7"
      },
      "source": [
        "def gera_pop():\r\n",
        "  populacao = []\r\n",
        "  for i in range(tamanho_pop):\r\n",
        "    individuo  = list(np.random.randint(2, size=qtde_itens))\r\n",
        "    \r\n",
        "    populacao.append(individuo)\r\n",
        "  return populacao\r\n"
      ],
      "execution_count": 3,
      "outputs": []
    },
    {
      "cell_type": "markdown",
      "metadata": {
        "id": "9ggYAazG3Sr5"
      },
      "source": [
        "# Função de aptidão:\r\n",
        "Nessa função é empregado o conceito de penalização às soluções candidatas que ferirem a restrição de capacidade das mochilas. Caso a solução viole essa restrição o valor do fitness será penalizado para baixo. De forma mais clara e em termos matemáticos: \r\n",
        "\r\n",
        "$f'(\\hat{x})=  \\sum_{j=1}^{N} v_j x_j - Pen(\\hat{x})$\r\n",
        "\r\n",
        "\r\n",
        "sendo: $Pen(\\hat{x}) = \r\n",
        "    \\begin{cases}\r\n",
        "      0, & \\text{se}\\  \\hat{x} \\ é \\ válida \\\\\r\n",
        "      \\rho(\\sum_{j=1}^{N} w_j x_j - cap), & \\text{Caso contrário}\r\n",
        "    \\end{cases}\r\n",
        "    \r\n",
        "$ \r\n",
        "\r\n",
        "com \r\n",
        "\r\n",
        "$\\rho = max(\\frac{v_j}{w_j})$, $\\forall_j =  \\ {1,...,N}$\r\n",
        "\r\n",
        "$v_j$ representa os valores de cada item candidato a entrar na mochila;\r\n",
        "\r\n",
        "$w_j$ representa o peso que cada item candidato a entrar na mochila tem;\r\n",
        "\r\n",
        "$x_j$ em uma solução com representação binária é 1 se o item entra na mochila e 0 se não entra\r\n",
        "\r\n",
        "cap representa a capacidade total de uma determinada mochila."
      ]
    },
    {
      "cell_type": "code",
      "metadata": {
        "id": "ua7IyZhU2oyG"
      },
      "source": [
        "def fitness(solution, valores:list=valores, pesos:list=pesos, capacidade:int=capacidade):\r\n",
        "  beneficio = 0\r\n",
        "  peso_total = 0\r\n",
        "  lista_aux = []\r\n",
        "  for j in range(len(pesos)):\r\n",
        "    lista_aux.append(valores[j]/pesos[j])\r\n",
        "  rho = max(lista_aux)\r\n",
        "\r\n",
        "  for i in range(len(solution)):\r\n",
        "    beneficio += ((solution[i]))*valores[i]\r\n",
        "    peso_total += ((solution[i]))*pesos[i]\r\n",
        "  if(peso_total > capacidade):\r\n",
        "    return (beneficio - rho * (peso_total - capacidade));    \r\n",
        "  else:\r\n",
        "      return beneficio\r\n",
        "      \r\n",
        "    \r\n",
        "\r\n",
        "\r\n"
      ],
      "execution_count": 4,
      "outputs": []
    },
    {
      "cell_type": "markdown",
      "metadata": {
        "id": "A3a0V-bI_Lgz"
      },
      "source": [
        "# Função que calcula o benefício total e o peso total de uma determinada configuração de itens em uma mochila"
      ]
    },
    {
      "cell_type": "code",
      "metadata": {
        "id": "zCdSUsbi7C32"
      },
      "source": [
        "def calcular_beneficio_e_peso(solucao):\r\n",
        "  beneficio_total = 0\r\n",
        "  peso_total = 0\r\n",
        "  for i in range(len(solucao)):\r\n",
        "    beneficio_total += valores[i]*solucao[i]\r\n",
        "    peso_total += pesos[i]*solucao[i]\r\n",
        "  return beneficio_total, peso_total\r\n"
      ],
      "execution_count": 5,
      "outputs": []
    },
    {
      "cell_type": "markdown",
      "metadata": {
        "id": "ehcT1gZ_3pi5"
      },
      "source": [
        "# Realiza crossover com um ponto de corte"
      ]
    },
    {
      "cell_type": "code",
      "metadata": {
        "id": "xoF8Zp3q3hJo"
      },
      "source": [
        "def crossover(pais, prob_crossover):\r\n",
        "  lista_aux = []\r\n",
        "  if(random.random() > prob_crossover):\r\n",
        "    return pais[0], pais[1]\r\n",
        "  else:\r\n",
        "    filho1 = []\r\n",
        "    filho2 = []\r\n",
        "    pontos_corte = int(np.random.randint(0, len(pais[0]), size=(1)))\r\n",
        "    parte1_filho1 = pais[0][0:pontos_corte]\r\n",
        "    parte1_filho2 = pais[1][0:pontos_corte]\r\n",
        "    parte2_filho1 = pais[1][(-(len(pais[1]) - pontos_corte)):] \r\n",
        "    parte2_filho2 = pais[0][(-(len(pais[0]) - pontos_corte)):]\r\n",
        "    filho1 = parte1_filho1 + parte2_filho1\r\n",
        "    filho2 = parte1_filho2 + parte2_filho2\r\n",
        "    return filho1, filho2"
      ],
      "execution_count": 6,
      "outputs": []
    },
    {
      "cell_type": "markdown",
      "metadata": {
        "id": "dnUNgjG5910E"
      },
      "source": [
        "# Realiza a mutação Bit-Flip com uma probabilidade baixa(entre 0,02-0,1) "
      ]
    },
    {
      "cell_type": "code",
      "metadata": {
        "id": "pbBrtZkK-Bxb"
      },
      "source": [
        "def mutacao(individuo, prob_mutacao):\r\n",
        "  if(random.random()>prob_mutacao):\r\n",
        "    return individuo\r\n",
        "  else:\r\n",
        "    posicao_mut = np.random.randint(0,len(individuo))\r\n",
        "    if(individuo[posicao_mut] == 0):\r\n",
        "      individuo[posicao_mut] == 0\r\n",
        "    else:\r\n",
        "      individuo[posicao_mut] == 1\r\n",
        "  return individuo"
      ],
      "execution_count": 7,
      "outputs": []
    },
    {
      "cell_type": "markdown",
      "metadata": {
        "id": "x8n-WXSPQ_rK"
      },
      "source": [
        "# Converte uma lista para um dicionário"
      ]
    },
    {
      "cell_type": "code",
      "metadata": {
        "id": "ihtDUpjaRFGl"
      },
      "source": [
        "def lista_to_dict(lista):\r\n",
        "    it = iter(lista)\r\n",
        "    dicionario = dict(zip(it, it))\r\n",
        "    return dicionario"
      ],
      "execution_count": 8,
      "outputs": []
    },
    {
      "cell_type": "markdown",
      "metadata": {
        "id": "9hL-ZZDbF4ZT"
      },
      "source": [
        "# Operador de Seleção Proporcional ao Fitness + Roleta;"
      ]
    },
    {
      "cell_type": "code",
      "metadata": {
        "id": "66e0W6nbGFBF"
      },
      "source": [
        "def selecionapais(populacao):\r\n",
        "    lista_pop_aptidoes = []\r\n",
        "    aptidoes = []\r\n",
        "    maior = 0\r\n",
        "    for j in range(len(populacao)):      \r\n",
        "      aptidoes.append(fitness(populacao[j], valores, pesos, capacidade))\r\n",
        "\r\n",
        "    for k in range(len(populacao)):\r\n",
        "      lista_pop_aptidoes.append(str(populacao[k]))\r\n",
        "      lista_pop_aptidoes.append(aptidoes[k])\r\n",
        "    pop = lista_to_dict(lista_pop_aptidoes)\r\n",
        "    maximo = sum(pop.values())\r\n",
        "    pick = random.uniform(0, maximo)\r\n",
        "    atual = 0\r\n",
        "    for individuo, valor_fitness in pop.items():\r\n",
        "        atual += valor_fitness\r\n",
        "        if atual > pick:         \r\n",
        "            individuo= ast.literal_eval(individuo)#Converte string de uma lista para uma list de int\r\n",
        "            return individuo"
      ],
      "execution_count": 9,
      "outputs": []
    },
    {
      "cell_type": "code",
      "metadata": {
        "id": "_zSZUggxLIn4"
      },
      "source": [
        "def evolucao():\r\n",
        "  itens = []\r\n",
        "  maior = 0\r\n",
        "  populacao = gera_pop()\r\n",
        "  for j in range(20000):\r\n",
        "    for i in range(int(tamanho_pop/2)):#Todos os indivíduos de cada  geração são substituidos \r\n",
        "      pai1 = selecionapais(populacao)      \r\n",
        "      pai2 = selecionapais(populacao)\r\n",
        "      filho1, filho2 = crossover([pai1, pai2], prob_crossover)\r\n",
        "      populacao[i] = filho1\r\n",
        "      populacao[i+1] = filho2\r\n",
        "  for k in range(len(populacao)):      \r\n",
        "    if(fitness(populacao[k])>maior):\r\n",
        "      maior = fitness(populacao[k])\r\n",
        "      itens = populacao[k]\r\n",
        "  return itens    \r\n",
        "\r\n",
        "\r\n"
      ],
      "execution_count": 10,
      "outputs": []
    },
    {
      "cell_type": "code",
      "metadata": {
        "id": "tdDuZk4svMG9"
      },
      "source": [
        "soluc = evolucao()"
      ],
      "execution_count": 11,
      "outputs": []
    },
    {
      "cell_type": "code",
      "metadata": {
        "colab": {
          "base_uri": "https://localhost:8080/"
        },
        "id": "ZU1v_qmS6EaX",
        "outputId": "cdf6dc3b-4936-415e-b059-9868d769b5cb"
      },
      "source": [
        "benef_tot, peso_tot = calcular_beneficio_e_peso(soluc)\r\n",
        "\r\n",
        "if(peso_tot<=capacidade):\r\n",
        "  print(\"Respeitou a restrição\")\r\n",
        "else:\r\n",
        "  print(\"Não respeitou a restrição de capacidade, considere reexecutar a função evolução \")\r\n",
        "print( \"O benefício total foi de:\", benef_tot,\" O peso total foi de \", peso_tot )"
      ],
      "execution_count": 12,
      "outputs": [
        {
          "output_type": "stream",
          "text": [
            "Respeitou a restrição\n",
            "O benefício total foi de: 18  O peso total foi de  31\n"
          ],
          "name": "stdout"
        }
      ]
    },
    {
      "cell_type": "markdown",
      "metadata": {
        "id": "2NwXq5E26q7O"
      },
      "source": [
        "# *** Disclaimer /Conclusão***"
      ]
    },
    {
      "cell_type": "markdown",
      "metadata": {
        "id": "M-irxY5q67tl"
      },
      "source": [
        "# Pelo fato do algoritmo genético não ser uma classe de solucionadores exatos, em vez disso são meta-heurísticas, nem sempre a solução acima respeitará a  restrição de capacidade da mochila. O algoritmo é estocástico e a solução as vezes pode ser até ser factível, mas pode não ser a melhor. Por isso às vezes é mandatório que se calcule a solução várias vezes, que se faça um armazenamento delas e partir desse armazenamento é preciso determinar a solução, que ao mesmo tempo, mais otimize nossa função e  respeite a(s) restrição/restrições."
      ]
    }
  ]
}